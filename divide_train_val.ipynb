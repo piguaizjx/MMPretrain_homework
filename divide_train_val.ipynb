{
 "cells": [
  {
   "cell_type": "markdown",
   "id": "96e78f21-e97f-41d0-a226-c1c1507ca0e9",
   "metadata": {},
   "source": [
    "# 划分训练集和验证集"
   ]
  },
  {
   "cell_type": "code",
   "execution_count": 1,
   "id": "e6bfdb1e-89a1-4859-9cc3-966ba420e63f",
   "metadata": {
    "tags": []
   },
   "outputs": [],
   "source": [
    "import os\n",
    "import random\n",
    "import shutil\n",
    "\n",
    "os.chdir('data')\n",
    "\n",
    "def cut_pictures(src_folder, dst_folder, cut_ratio):\n",
    "    if not os.path.exists(dst_folder):\n",
    "        os.makedirs(dst_folder)\n",
    "    for subfolder in os.listdir(src_folder):\n",
    "        subfolder_path = os.path.join(src_folder, subfolder)\n",
    "        if os.path.isdir(subfolder_path):\n",
    "            dst_subfolder = os.path.join(dst_folder, subfolder)\n",
    "            if not os.path.exists(dst_subfolder):\n",
    "                os.makedirs(dst_subfolder)\n",
    "            pictures = [f for f in os.listdir(subfolder_path) if f.endswith('.jpg') or f.endswith('.png')]\n",
    "            cut_num = int(len(pictures) * cut_ratio)\n",
    "            cut_pictures = random.sample(pictures, cut_num)\n",
    "            for pic in cut_pictures:\n",
    "                src_pic_path = os.path.join(subfolder_path, pic)\n",
    "                dst_pic_path = os.path.join(dst_subfolder, pic)\n",
    "                shutil.move(src_pic_path, dst_pic_path)\n",
    "\n",
    "cut_pictures('fruit30_train', 'fruit30_val', 0.3)"
   ]
  },
  {
   "cell_type": "code",
   "execution_count": null,
   "id": "568cf52f-83c8-4d7e-b011-691dd9bf3fd1",
   "metadata": {},
   "outputs": [],
   "source": []
  }
 ],
 "metadata": {
  "kernelspec": {
   "display_name": "Python [conda env:Z_pytorch] *",
   "language": "python",
   "name": "conda-env-Z_pytorch-py"
  },
  "language_info": {
   "codemirror_mode": {
    "name": "ipython",
    "version": 3
   },
   "file_extension": ".py",
   "mimetype": "text/x-python",
   "name": "python",
   "nbconvert_exporter": "python",
   "pygments_lexer": "ipython3",
   "version": "3.9.15"
  }
 },
 "nbformat": 4,
 "nbformat_minor": 5
}
